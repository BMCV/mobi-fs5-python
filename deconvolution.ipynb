{
 "cells": [
  {
   "cell_type": "code",
   "execution_count": null,
   "metadata": {},
   "outputs": [],
   "source": [
    "%pylab\n",
    "%matplotlib inline"
   ]
  },
  {
   "cell_type": "code",
   "execution_count": null,
   "metadata": {},
   "outputs": [],
   "source": [
    "from skimage import color\n",
    "from skimage.restoration import wiener\n",
    "from scipy.signal import convolve as conv\n",
    "from scipy.stats import multivariate_normal as multi_normal\n",
    "numpy.random.seed(0)"
   ]
  },
  {
   "cell_type": "markdown",
   "metadata": {},
   "source": [
    "Load the image. We will use a ground truth image for this task (instead of an *intensity* image) since the impact of deconvolution is better visible when a *binary* image is used."
   ]
  },
  {
   "cell_type": "code",
   "execution_count": null,
   "metadata": {
    "scrolled": true
   },
   "outputs": [],
   "source": [
    "img = imread(f'../data/NIH3T3/gt/0.png')[:, :1024]\n",
    "imshow(img, 'gray')"
   ]
  },
  {
   "cell_type": "markdown",
   "metadata": {},
   "source": [
    "**Task 1** Apply the following PSF to the image and display it"
   ]
  },
  {
   "cell_type": "code",
   "execution_count": null,
   "metadata": {},
   "outputs": [],
   "source": [
    "psf_size = 20\n",
    "psf = numpy.ones((psf_size, psf_size)) / psf_size**2"
   ]
  },
  {
   "cell_type": "code",
   "execution_count": null,
   "metadata": {
    "scrolled": false
   },
   "outputs": [],
   "source": []
  },
  {
   "cell_type": "markdown",
   "metadata": {},
   "source": [
    "**Task 2** Have a look at the Gaussian PSF which is not uniformly distributed. Apply it to the image."
   ]
  },
  {
   "cell_type": "code",
   "execution_count": null,
   "metadata": {},
   "outputs": [],
   "source": [
    "def create_psf(size):\n",
    "    factor = size*1.8\n",
    "    x, y = numpy.mgrid[0:size:1, 0:size:1]\n",
    "    pos = numpy.empty(x.shape + (2,))\n",
    "    pos[:, :, 0] = x\n",
    "    pos[:, :, 1] = y\n",
    "    rv = multi_normal([int(size/2), (int(size/2))], [[factor*1., factor*1.2], [factor*.5, factor*.7]])\n",
    "    return rv.pdf(pos)\n",
    "\n",
    "imshow(create_psf(psf_size), 'gray')"
   ]
  },
  {
   "cell_type": "markdown",
   "metadata": {},
   "source": [
    "Apply the second psf to the image:"
   ]
  },
  {
   "cell_type": "code",
   "execution_count": null,
   "metadata": {},
   "outputs": [],
   "source": []
  },
  {
   "cell_type": "markdown",
   "metadata": {},
   "source": [
    "**Task 3** Implement a reusable function that does the Richardson-Lucy deconvolution."
   ]
  },
  {
   "cell_type": "code",
   "execution_count": null,
   "metadata": {},
   "outputs": [],
   "source": [
    "def richardson_lucy_deconvolution(image, psf, n_iterations):\n",
    "    img_deconv = numpy.full(image.shape, 0.5)\n",
    "    \n",
    "    ### Insert code here\n",
    "    \n",
    "    img_deconv[img_deconv > 1] = 1\n",
    "    img_deconv[img_deconv < -1] = -1\n",
    "    return img_deconv"
   ]
  },
  {
   "cell_type": "markdown",
   "metadata": {},
   "source": [
    "**Task 4** Apply the Richardson-Lucy deconvolution to the blurred image."
   ]
  },
  {
   "cell_type": "code",
   "execution_count": null,
   "metadata": {},
   "outputs": [],
   "source": []
  },
  {
   "cell_type": "code",
   "execution_count": null,
   "metadata": {
    "scrolled": true
   },
   "outputs": [],
   "source": [
    "figure(figsize=(10,5))\n",
    "subplot(1, 3, 1)\n",
    "axis('off')\n",
    "imshow(img, 'gray')\n",
    "subplot(1, 3, 2)\n",
    "axis('off')\n",
    "imshow(img_psf, 'gray')\n",
    "subplot(1, 3, 3)\n",
    "axis('off')\n",
    "imshow(deconv_img, 'gray')"
   ]
  },
  {
   "cell_type": "markdown",
   "metadata": {},
   "source": [
    "**Task 5** Add noise to the image, use the R-L deconvolution again."
   ]
  },
  {
   "cell_type": "code",
   "execution_count": null,
   "metadata": {},
   "outputs": [],
   "source": [
    "noise = (numpy.random.normal(loc=5,size=img.shape))\n",
    "reduce_factor = 50\n",
    "noise = noise / reduce_factor"
   ]
  },
  {
   "cell_type": "code",
   "execution_count": null,
   "metadata": {},
   "outputs": [],
   "source": []
  },
  {
   "cell_type": "markdown",
   "metadata": {},
   "source": [
    "**Task 6** Compare your R-L implementation to a wiener deconvolution."
   ]
  },
  {
   "cell_type": "code",
   "execution_count": null,
   "metadata": {},
   "outputs": [],
   "source": []
  },
  {
   "cell_type": "markdown",
   "metadata": {},
   "source": [
    "**Task 7** Repeat Tasks 4–6 using a smaller value for the size of the PSF."
   ]
  },
  {
   "cell_type": "code",
   "execution_count": null,
   "metadata": {},
   "outputs": [],
   "source": []
  },
  {
   "cell_type": "markdown",
   "metadata": {},
   "source": [
    "**Task 8** Use a wrong PSF to restore the image"
   ]
  },
  {
   "cell_type": "code",
   "execution_count": null,
   "metadata": {},
   "outputs": [],
   "source": []
  },
  {
   "cell_type": "code",
   "execution_count": null,
   "metadata": {},
   "outputs": [],
   "source": []
  }
 ],
 "metadata": {
  "kernelspec": {
   "display_name": "Python 3 (ipykernel)",
   "language": "python",
   "name": "python3"
  },
  "language_info": {
   "codemirror_mode": {
    "name": "ipython",
    "version": 3
   },
   "file_extension": ".py",
   "mimetype": "text/x-python",
   "name": "python",
   "nbconvert_exporter": "python",
   "pygments_lexer": "ipython3",
   "version": "3.9.6"
  }
 },
 "nbformat": 4,
 "nbformat_minor": 4
}
